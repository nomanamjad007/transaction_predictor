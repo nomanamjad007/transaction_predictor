{
 "cells": [
  {
   "cell_type": "markdown",
   "metadata": {},
   "source": [
    "# 1 Introduction"
   ]
  },
  {
   "cell_type": "markdown",
   "metadata": {},
   "source": [
    "Instacart is an on-demand grocery delivery app that allows a user to browse and pick out products they want from a virtual catalog from local grocery stores. A personal shopper receives your order, and then does the in-store shopping and delivery for you. To improve the grocery shopping experience, it would be advantageous if Instacart could predict what products a customer will purchase again. This will allow Instacart to generate personalized experiences for every user, helping them easily rediscover their favorite products. Creating an efficient and convenient shopping experience for customers will help more users adopt this new format of grocery shopping.\n",
    "\n",
    "For this challenge, we will develop a neural network in Keras to predict whether an Instacart customer will reorder a certain item."
   ]
  },
  {
   "cell_type": "markdown",
   "metadata": {},
   "source": [
    "## 1.1 Loading libraries"
   ]
  },
  {
   "cell_type": "code",
   "execution_count": 1,
   "metadata": {},
   "outputs": [],
   "source": [
    "# import necessary libraries\n",
    "import pandas as pd\n",
    "import numpy as np\n",
    "import matplotlib.pyplot as plt\n",
    "import seaborn as sns\n",
    "import warnings\n",
    "\n",
    "%matplotlib inline\n",
    "plt.style.use('seaborn')\n",
    "\n",
    "warnings.filterwarnings(action='ignore')"
   ]
  },
  {
   "cell_type": "markdown",
   "metadata": {},
   "source": [
    "## 1.2 Data structure and content"
   ]
  },
  {
   "cell_type": "markdown",
   "metadata": {},
   "source": [
    "The dataset is published by Instacart, and is available [here](https://www.instacart.com/datasets/grocery-shopping-2017). It contains over 3 million orders from more than 200,000 users, and there is data about the user's orders, the sequence of products purchased, and when it was ordered. \n",
    "\n",
    "There are 6 csv files: \n",
    "\n",
    "* 3 of them contain data about the products, aisles and departments\n",
    "* the other 3 contain user's order information \n",
    "\n",
    "Refer to data dictionary [here](https://gist.github.com/jeremystan/c3b39d947d9b88b3ccff3147dbcf6c6b) for more details."
   ]
  },
  {
   "cell_type": "markdown",
   "metadata": {},
   "source": [
    "Recreate the virtual catalog of products with aisle and department data."
   ]
  },
  {
   "cell_type": "code",
   "execution_count": 2,
   "metadata": {},
   "outputs": [],
   "source": [
    "# load the data\n",
    "p = pd.read_csv('data/products.csv')\n",
    "d = pd.read_csv('data/departments.csv')\n",
    "a = pd.read_csv('data/aisles.csv')"
   ]
  },
  {
   "cell_type": "code",
   "execution_count": 3,
   "metadata": {},
   "outputs": [
    {
     "data": {
      "text/html": [
       "<div>\n",
       "<style scoped>\n",
       "    .dataframe tbody tr th:only-of-type {\n",
       "        vertical-align: middle;\n",
       "    }\n",
       "\n",
       "    .dataframe tbody tr th {\n",
       "        vertical-align: top;\n",
       "    }\n",
       "\n",
       "    .dataframe thead th {\n",
       "        text-align: right;\n",
       "    }\n",
       "</style>\n",
       "<table border=\"1\" class=\"dataframe\">\n",
       "  <thead>\n",
       "    <tr style=\"text-align: right;\">\n",
       "      <th></th>\n",
       "      <th>product_id</th>\n",
       "      <th>product_name</th>\n",
       "      <th>aisle_id</th>\n",
       "      <th>department_id</th>\n",
       "      <th>department</th>\n",
       "      <th>aisle</th>\n",
       "    </tr>\n",
       "  </thead>\n",
       "  <tbody>\n",
       "    <tr>\n",
       "      <th>0</th>\n",
       "      <td>1</td>\n",
       "      <td>Chocolate Sandwich Cookies</td>\n",
       "      <td>61</td>\n",
       "      <td>19</td>\n",
       "      <td>snacks</td>\n",
       "      <td>cookies cakes</td>\n",
       "    </tr>\n",
       "    <tr>\n",
       "      <th>1</th>\n",
       "      <td>78</td>\n",
       "      <td>Nutter Butter Cookie Bites Go-Pak</td>\n",
       "      <td>61</td>\n",
       "      <td>19</td>\n",
       "      <td>snacks</td>\n",
       "      <td>cookies cakes</td>\n",
       "    </tr>\n",
       "    <tr>\n",
       "      <th>2</th>\n",
       "      <td>102</td>\n",
       "      <td>Danish Butter Cookies</td>\n",
       "      <td>61</td>\n",
       "      <td>19</td>\n",
       "      <td>snacks</td>\n",
       "      <td>cookies cakes</td>\n",
       "    </tr>\n",
       "    <tr>\n",
       "      <th>3</th>\n",
       "      <td>172</td>\n",
       "      <td>Gluten Free All Natural Chocolate Chip Cookies</td>\n",
       "      <td>61</td>\n",
       "      <td>19</td>\n",
       "      <td>snacks</td>\n",
       "      <td>cookies cakes</td>\n",
       "    </tr>\n",
       "    <tr>\n",
       "      <th>4</th>\n",
       "      <td>285</td>\n",
       "      <td>Mini Nilla Wafers Munch Pack</td>\n",
       "      <td>61</td>\n",
       "      <td>19</td>\n",
       "      <td>snacks</td>\n",
       "      <td>cookies cakes</td>\n",
       "    </tr>\n",
       "  </tbody>\n",
       "</table>\n",
       "</div>"
      ],
      "text/plain": [
       "   product_id                                    product_name  aisle_id  \\\n",
       "0           1                      Chocolate Sandwich Cookies        61   \n",
       "1          78               Nutter Butter Cookie Bites Go-Pak        61   \n",
       "2         102                           Danish Butter Cookies        61   \n",
       "3         172  Gluten Free All Natural Chocolate Chip Cookies        61   \n",
       "4         285                    Mini Nilla Wafers Munch Pack        61   \n",
       "\n",
       "   department_id department          aisle  \n",
       "0             19     snacks  cookies cakes  \n",
       "1             19     snacks  cookies cakes  \n",
       "2             19     snacks  cookies cakes  \n",
       "3             19     snacks  cookies cakes  \n",
       "4             19     snacks  cookies cakes  "
      ]
     },
     "execution_count": 3,
     "metadata": {},
     "output_type": "execute_result"
    }
   ],
   "source": [
    "# right join to merge the dataframes on department and aisle id\n",
    "catalog = pd.merge(p, d,\n",
    "                   how='right', on='department_id')\n",
    "catalog = pd.merge(catalog, a,\n",
    "                   how='right', on='aisle_id')\n",
    "catalog.head()"
   ]
  },
  {
   "cell_type": "markdown",
   "metadata": {},
   "source": [
    "Create a dataframe containing prior purchase history, and join with the catalog data, so we know what users are buying."
   ]
  },
  {
   "cell_type": "code",
   "execution_count": 19,
   "metadata": {},
   "outputs": [],
   "source": [
    "# create dataframe with prior purchasing history\n",
    "orders = pd.read_csv('data/orders.csv')\n",
    "X = pd.read_csv('data/order_products__train.csv')\n",
    "\n",
    "# left join with catalog data\n",
    "X = pd.merge(X, orders,\n",
    "                 how='left', on='order_id')\n",
    "X = pd.merge(X, catalog,\n",
    "                 how='left', on='product_id')\n",
    "#filter = X[\"eval_set\"]==\"train\"\n",
    "#X.where(filter, inplace = True) \n",
    "#X.head()"
   ]
  },
  {
   "cell_type": "markdown",
   "metadata": {},
   "source": [
    "Because this dataset consumes a tremendous amount of memory (3.9GB+), downsample the dataset to lighten the computational load. Once we get a working model, we can come back and use the full dataset."
   ]
  },
  {
   "cell_type": "code",
   "execution_count": 20,
   "metadata": {},
   "outputs": [],
   "source": [
    "# downsample the original datasets to 1 million records\n",
    "X = X.iloc[0:100000,]"
   ]
  },
  {
   "cell_type": "markdown",
   "metadata": {},
   "source": [
    "# 2 Tidy"
   ]
  },
  {
   "cell_type": "markdown",
   "metadata": {},
   "source": [
    "Note that the dataframe currently contains redundant information. There are **id's** for departments, aisles and products, as well as a **textual description**. For now, keep the text-based information because it will be easier to interpret when performing exploratory data analysis. During the preprocess step, we can remove the redundancies."
   ]
  },
  {
   "cell_type": "markdown",
   "metadata": {},
   "source": [
    "## 2.1 missing data"
   ]
  },
  {
   "cell_type": "code",
   "execution_count": 21,
   "metadata": {},
   "outputs": [
    {
     "data": {
      "text/plain": [
       "order_id                  0\n",
       "product_id                0\n",
       "add_to_cart_order         0\n",
       "reordered                 0\n",
       "user_id                   0\n",
       "eval_set                  0\n",
       "order_number              0\n",
       "order_dow                 0\n",
       "order_hour_of_day         0\n",
       "days_since_prior_order    0\n",
       "product_name              0\n",
       "aisle_id                  0\n",
       "department_id             0\n",
       "department                0\n",
       "aisle                     0\n",
       "dtype: int64"
      ]
     },
     "execution_count": 21,
     "metadata": {},
     "output_type": "execute_result"
    }
   ],
   "source": [
    "X.isna().sum()"
   ]
  },
  {
   "cell_type": "markdown",
   "metadata": {},
   "source": [
    "There is some missing data here as a result of new users who have just signed up, and started using the service. As a result, Instacart does not have any previous record of these users making a prior purchase, leaving us with a null value. Replace these null values with 0."
   ]
  },
  {
   "cell_type": "code",
   "execution_count": 22,
   "metadata": {},
   "outputs": [],
   "source": [
    "# replace null values with 0\n",
    "X.replace(np.NaN, 0, inplace=True)"
   ]
  },
  {
   "cell_type": "markdown",
   "metadata": {},
   "source": [
    "## 2.2 datatypes"
   ]
  },
  {
   "cell_type": "code",
   "execution_count": 23,
   "metadata": {},
   "outputs": [
    {
     "name": "stdout",
     "output_type": "stream",
     "text": [
      "<class 'pandas.core.frame.DataFrame'>\n",
      "Int64Index: 100000 entries, 0 to 99999\n",
      "Data columns (total 15 columns):\n",
      "order_id                  100000 non-null int64\n",
      "product_id                100000 non-null int64\n",
      "add_to_cart_order         100000 non-null int64\n",
      "reordered                 100000 non-null int64\n",
      "user_id                   100000 non-null int64\n",
      "eval_set                  100000 non-null object\n",
      "order_number              100000 non-null int64\n",
      "order_dow                 100000 non-null int64\n",
      "order_hour_of_day         100000 non-null int64\n",
      "days_since_prior_order    100000 non-null float64\n",
      "product_name              100000 non-null object\n",
      "aisle_id                  100000 non-null int64\n",
      "department_id             100000 non-null int64\n",
      "department                100000 non-null object\n",
      "aisle                     100000 non-null object\n",
      "dtypes: float64(1), int64(10), object(4)\n",
      "memory usage: 12.2+ MB\n"
     ]
    }
   ],
   "source": [
    "X.info()"
   ]
  },
  {
   "cell_type": "markdown",
   "metadata": {},
   "source": [
    "Quite a few variables are numerical when they should be categorical. \n",
    "\n",
    "For example, while **aisle_id** is a number, it is really a categorical variable, because each aisle is discrete. Also, convert **days_since_prior_order** to an integer because it doesn't make sense for it to be a float (i.e. there aren't 8.675 days). Finally, drop **user_id/eval_set** because they have no predictive value, and are just unique identifiers."
   ]
  },
  {
   "cell_type": "code",
   "execution_count": 24,
   "metadata": {},
   "outputs": [],
   "source": [
    "# convert days_since_prior_order to integer first\n",
    "X['days_since_prior_order'] = X['days_since_prior_order'].astype(int)\n",
    "\n",
    "# convert integers to categorical variables\n",
    "int_to_cat = ['product_id', 'reordered', 'order_dow', \n",
    "              'order_hour_of_day', 'aisle_id', 'department_id',\n",
    "              'days_since_prior_order']\n",
    "\n",
    "for var in int_to_cat:\n",
    "    X[var] = X[var].astype('str')\n",
    "\n",
    "# drop unnecessary variables\n",
    "X.drop(['user_id', 'eval_set'], axis=1, inplace=True)"
   ]
  },
  {
   "cell_type": "markdown",
   "metadata": {},
   "source": [
    "# 3 Explore"
   ]
  },
  {
   "cell_type": "markdown",
   "metadata": {},
   "source": [
    "# 4 Preprocess"
   ]
  },
  {
   "cell_type": "markdown",
   "metadata": {},
   "source": [
    "To begin preprocessing, remove the redundant variables from the dataset, encode the categorical variables, and then reduce dimensionality."
   ]
  },
  {
   "cell_type": "code",
   "execution_count": 28,
   "metadata": {},
   "outputs": [
    {
     "name": "stderr",
     "output_type": "stream",
     "text": [
      "Using TensorFlow backend.\n"
     ]
    }
   ],
   "source": [
    "# drop redundant variables\n",
    "drop = ['product_name', 'department', 'aisle', 'order_id']\n",
    "\n",
    "[X.drop(x, axis=1, inplace=True) for x in drop]\n",
    "\n",
    "# create feature and target variables\n",
    "y = X['reordered']\n",
    "X = X.drop('reordered', axis=1)\n",
    "\n",
    "# encode categorical features\n",
    "from sklearn.preprocessing import OneHotEncoder\n",
    "from keras.utils import to_categorical\n",
    "\n",
    "enc = OneHotEncoder()\n",
    "X = enc.fit_transform(X)\n",
    "y = to_categorical(y)"
   ]
  },
  {
   "cell_type": "markdown",
   "metadata": {},
   "source": [
    "## 4.1 TruncatedSVD"
   ]
  },
  {
   "cell_type": "markdown",
   "metadata": {},
   "source": [
    "Use TruncatedSVD because it works more efficiently with sparse matrices than PCA. Reference the documentation [here](https://scikit-learn.org/stable/modules/generated/sklearn.decomposition.TruncatedSVD.html) for more details."
   ]
  },
  {
   "cell_type": "code",
   "execution_count": 29,
   "metadata": {},
   "outputs": [
    {
     "data": {
      "text/plain": [
       "Text(0, 0.5, 'cumulative explained variance')"
      ]
     },
     "execution_count": 29,
     "metadata": {},
     "output_type": "execute_result"
    },
    {
     "data": {
      "image/png": "[encoded data removed]",
      "text/plain": [
       "<Figure size 800x500 with 1 Axes>"
      ]
     },
     "metadata": {},
     "output_type": "display_data"
    }
   ],
   "source": [
    "from sklearn.decomposition import TruncatedSVD\n",
    "\n",
    "# start with 600 components\n",
    "svd600 = TruncatedSVD(n_components=600).fit(X)\n",
    "\n",
    "# plot number of components vs explained variance\n",
    "plt.figure(figsize=(8,5), dpi=100)\n",
    "sns.set_style('whitegrid')\n",
    "\n",
    "plt.plot(np.cumsum(svd600.explained_variance_ratio_), color='#ff8200')\n",
    "plt.xlabel('number of components')\n",
    "plt.ylabel('cumulative explained variance')"
   ]
  },
  {
   "cell_type": "markdown",
   "metadata": {},
   "source": [
    "600 components explains roughly 90% of the variance, but the runtime is longer than I am willing to pay for. Let's try again with half the number of components:"
   ]
  },
  {
   "cell_type": "code",
   "execution_count": 30,
   "metadata": {},
   "outputs": [
    {
     "data": {
      "text/plain": [
       "0.8825118418528941"
      ]
     },
     "execution_count": 30,
     "metadata": {},
     "output_type": "execute_result"
    }
   ],
   "source": [
    "svd300 = TruncatedSVD(n_components=300).fit(X)\n",
    "svd300.explained_variance_ratio_.sum()"
   ]
  },
  {
   "cell_type": "markdown",
   "metadata": {},
   "source": [
    "300 components explained 88% of the variance, and any additional gains are incremental with a huge trade-off in time. As such, fit and transform the feature variables with only 300 components."
   ]
  },
  {
   "cell_type": "code",
   "execution_count": 31,
   "metadata": {},
   "outputs": [],
   "source": [
    "# fit and transform with 300 components\n",
    "X = svd300.fit_transform(X)\n",
    "\n",
    "# create train/test splits\n",
    "from sklearn.model_selection import train_test_split\n",
    "\n",
    "X_train, X_test, y_train, y_test = train_test_split(X, y, test_size=0.25)"
   ]
  },
  {
   "cell_type": "markdown",
   "metadata": {},
   "source": [
    "# 5 Model"
   ]
  },
  {
   "cell_type": "markdown",
   "metadata": {},
   "source": [
    "Create a basic neural network (NN) first as a baseline model, using three-layers with 64 units/hidden layer."
   ]
  },
  {
   "cell_type": "markdown",
   "metadata": {},
   "source": [
    "## 5.1 Basic neural network"
   ]
  },
  {
   "cell_type": "code",
   "execution_count": 32,
   "metadata": {},
   "outputs": [
    {
     "name": "stdout",
     "output_type": "stream",
     "text": [
      "WARNING:tensorflow:From C:\\Users\\Nouman\\Anaconda3\\lib\\site-packages\\tensorflow\\python\\framework\\op_def_library.py:263: colocate_with (from tensorflow.python.framework.ops) is deprecated and will be removed in a future version.\n",
      "Instructions for updating:\n",
      "Colocations handled automatically by placer.\n",
      "WARNING:tensorflow:From C:\\Users\\Nouman\\Anaconda3\\lib\\site-packages\\tensorflow\\python\\ops\\math_ops.py:3066: to_int32 (from tensorflow.python.ops.math_ops) is deprecated and will be removed in a future version.\n",
      "Instructions for updating:\n",
      "Use tf.cast instead.\n",
      "Epoch 1/5\n",
      "75000/75000 [==============================] - 3s 34us/step - loss: 0.6064 - acc: 0.6651\n",
      "Epoch 2/5\n",
      "75000/75000 [==============================] - 2s 28us/step - loss: 0.5826 - acc: 0.6876\n",
      "Epoch 3/5\n",
      "75000/75000 [==============================] - 2s 27us/step - loss: 0.5717 - acc: 0.6964\n",
      "Epoch 4/5\n",
      "75000/75000 [==============================] - 2s 26us/step - loss: 0.5594 - acc: 0.7080\n",
      "Epoch 5/5\n",
      "75000/75000 [==============================] - 2s 25us/step - loss: 0.5459 - acc: 0.7191\n",
      "75000/75000 [==============================] - 1s 14us/step\n"
     ]
    },
    {
     "data": {
      "text/plain": [
       "[0.5291818334643046, 0.7280399999554952]"
      ]
     },
     "execution_count": 32,
     "metadata": {},
     "output_type": "execute_result"
    }
   ],
   "source": [
    "# import sequential model from keras and layer instances\n",
    "from keras.models import Sequential\n",
    "from keras.layers import Dense, Dropout, BatchNormalization\n",
    "\n",
    "# build neural network layers\n",
    "m1 = Sequential()\n",
    "m1.add(Dense(64, activation='relu', input_dim=300))\n",
    "m1.add(Dense(64, activation='relu'))\n",
    "m1.add(Dense(2, activation='softmax'))\n",
    "\n",
    "# compile the model\n",
    "m1.compile(loss='categorical_crossentropy',\n",
    "              optimizer='adam',\n",
    "              metrics=['accuracy'])\n",
    "\n",
    "# fit the model\n",
    "m1.fit(X_train, y_train,\n",
    "          epochs=5,\n",
    "          batch_size=128)\n",
    "\n",
    "# evaluate the model\n",
    "m1.evaluate(X_train, y_train, batch_size=128)"
   ]
  },
  {
   "cell_type": "markdown",
   "metadata": {},
   "source": [
    "* use ReLU for the activation function because it greatly accelerates converge to the minimum during SGD\n",
    "* use a softmax activation in the output layer with 2 units to obtain probabilities on whether the item will be reordered or not, remember to specify the loss function as **categorical_crossentropy**\n",
    "* use the Adam optimization algorithm because it adaptively tunes the learning rate per parameter\n",
    "* begin training with a smaller number of epochs, and then increase it after we have a good set of hyperparameters"
   ]
  },
  {
   "cell_type": "markdown",
   "metadata": {},
   "source": [
    "The 3-layer net yields an accuracy score of 74.7%."
   ]
  },
  {
   "cell_type": "markdown",
   "metadata": {},
   "source": [
    "## 5.2 Not-so basic NN"
   ]
  },
  {
   "cell_type": "markdown",
   "metadata": {},
   "source": [
    "The basic NN scored 74% on accuracy, which isn't bad. Let's add more layers, and units to increase modeling capacity. We add dropout layers to prevent overfitting, and initialize the NN with batch normalization."
   ]
  },
  {
   "cell_type": "code",
   "execution_count": 33,
   "metadata": {},
   "outputs": [
    {
     "name": "stdout",
     "output_type": "stream",
     "text": [
      "WARNING:tensorflow:From C:\\Users\\Nouman\\Anaconda3\\lib\\site-packages\\keras\\backend\\tensorflow_backend.py:3445: calling dropout (from tensorflow.python.ops.nn_ops) with keep_prob is deprecated and will be removed in a future version.\n",
      "Instructions for updating:\n",
      "Please use `rate` instead of `keep_prob`. Rate should be set to `rate = 1 - keep_prob`.\n",
      "Epoch 1/5\n",
      "75000/75000 [==============================] - 10s 131us/step - loss: 0.6311 - acc: 0.6444\n",
      "Epoch 2/5\n",
      "75000/75000 [==============================] - 8s 108us/step - loss: 0.5976 - acc: 0.6760\n",
      "Epoch 3/5\n",
      "75000/75000 [==============================] - 8s 101us/step - loss: 0.5886 - acc: 0.6840\n",
      "Epoch 4/5\n",
      "75000/75000 [==============================] - 9s 116us/step - loss: 0.5829 - acc: 0.6910\n",
      "Epoch 5/5\n",
      "75000/75000 [==============================] - 8s 106us/step - loss: 0.5767 - acc: 0.6940 0s - loss: 0.5766 - acc: 0.6\n",
      "75000/75000 [==============================] - 2s 32us/step\n"
     ]
    },
    {
     "data": {
      "text/plain": [
       "[0.5578352121162414, 0.7093733333714803]"
      ]
     },
     "execution_count": 33,
     "metadata": {},
     "output_type": "execute_result"
    }
   ],
   "source": [
    "# build NN layers\n",
    "m2 = Sequential()\n",
    "m2.add(BatchNormalization(axis=-1, momentum=0.99, epsilon=0.001, center=True, scale=True, \n",
    "                          beta_initializer='zeros', gamma_initializer='ones', moving_mean_initializer='zeros'))\n",
    "m2.add(Dense(256, activation='relu'))\n",
    "m2.add(Dropout(0.25))\n",
    "m2.add(Dense(256, activation='relu'))\n",
    "m2.add(Dropout(0.5))\n",
    "m2.add(Dense(256, activation='relu'))\n",
    "m2.add(Dropout(0.25))\n",
    "m2.add(Dense(2, activation='softmax'))\n",
    "\n",
    "# compile the model\n",
    "m2.compile(loss='categorical_crossentropy',\n",
    "              optimizer='adam',\n",
    "              metrics=['accuracy'])\n",
    "\n",
    "# fit the model\n",
    "m2.fit(X_train, y_train,\n",
    "          epochs=5,\n",
    "          batch_size=128)\n",
    "\n",
    "# evaluate the model\n",
    "m2.evaluate(X_train, y_train, batch_size=128)"
   ]
  },
  {
   "cell_type": "markdown",
   "metadata": {},
   "source": [
    "* add additional hidden layer and increase number of units in each hidden layer to 256 to increase modeling capacity\n",
    "* increase regularization strength by adding dropout layers, where a fraction of the neurons are silenced during training, to prevent overfitting (has the effect of sampling from within the full net)\n",
    "* add a batch normalization layer to force all activations in the network to assume a normal distribution, instead of dealing with changing parameters from previous layers\n",
    "* batch normalization also acts as a regularizer and can replace dropout layers in some cases"
   ]
  },
  {
   "cell_type": "markdown",
   "metadata": {},
   "source": [
    "The 4-layer net takes a minor hit in performance probably because the initial one may have been slightly overfit."
   ]
  },
  {
   "cell_type": "markdown",
   "metadata": {},
   "source": [
    "## 5.3 Hyperparameter tuning"
   ]
  },
  {
   "cell_type": "markdown",
   "metadata": {},
   "source": [
    "To tune the hyperparameters, simply create the model as a function, and wrap with the `KerasClassifier` function. This way, we can use it with the randomized search function in scikit-learn."
   ]
  },
  {
   "cell_type": "code",
   "execution_count": 35,
   "metadata": {},
   "outputs": [],
   "source": [
    "from keras.wrappers.scikit_learn import KerasClassifier\n",
    "\n",
    "# create model function to use with KerasClassifier\n",
    "def create_model(optimizer='adam', neurons=64, dropout_rate=0.25):\n",
    "    activation='relu'\n",
    "    #build layers\n",
    "    model = Sequential()\n",
    "    model.add(BatchNormalization(axis=-1, momentum=0.99, epsilon=0.001, center=True, scale=True, \n",
    "                          beta_initializer='zeros', gamma_initializer='ones', moving_mean_initializer='zeros'))\n",
    "    model.add(Dense(neurons, activation='relu'))\n",
    "    model.add(Dropout(dropout_rate))\n",
    "    model.add(Dense(neurons, activation='relu'))\n",
    "    model.add(Dropout(dropout_rate))\n",
    "    model.add(Dense(neurons, activation='relu'))\n",
    "    model.add(Dropout(dropout_rate))\n",
    "    model.add(Dense(2, activation='softmax'))\n",
    "    #compile model\n",
    "    model.compile(loss='categorical_crossentropy',\n",
    "              optimizer=optimizer,\n",
    "              metrics=['accuracy'])\n",
    "    return model\n",
    "\n",
    "model = KerasClassifier(build_fn=create_model, batch_size=128, epochs=2)"
   ]
  },
  {
   "cell_type": "code",
   "execution_count": 36,
   "metadata": {},
   "outputs": [
    {
     "name": "stdout",
     "output_type": "stream",
     "text": [
      "Fitting 3 folds for each of 10 candidates, totalling 30 fits\n"
     ]
    },
    {
     "name": "stderr",
     "output_type": "stream",
     "text": [
      "[Parallel(n_jobs=-1)]: Using backend LokyBackend with 4 concurrent workers.\n",
      "[Parallel(n_jobs=-1)]: Done  30 out of  30 | elapsed:  9.7min finished\n"
     ]
    },
    {
     "name": "stdout",
     "output_type": "stream",
     "text": [
      "Epoch 1/2\n",
      "75000/75000 [==============================] - 9s 125us/step - loss: 0.6596 - acc: 0.6201\n",
      "Epoch 2/2\n",
      "75000/75000 [==============================] - 9s 115us/step - loss: 0.6071 - acc: 0.6693 0s - loss: 0.6071 - acc: 0.66\n"
     ]
    },
    {
     "data": {
      "text/plain": [
       "{'optimizer': 'adam', 'neurons': 256, 'dropout_rate': 0.5}"
      ]
     },
     "execution_count": 36,
     "metadata": {},
     "output_type": "execute_result"
    }
   ],
   "source": [
    "from sklearn.model_selection import RandomizedSearchCV\n",
    "\n",
    "# create grid of hyperparameters\n",
    "params = {'neurons':[256, 512],\n",
    "          'dropout_rate':[0.25, 0.5, 0.75],\n",
    "          'optimizer':['adam', 'sgd']}\n",
    "\n",
    "grid = RandomizedSearchCV(estimator=model, param_distributions=params, \n",
    "                          verbose=2, n_jobs=-1)\n",
    "grid.fit(X_train, y_train)\n",
    "grid.best_params_"
   ]
  },
  {
   "cell_type": "markdown",
   "metadata": {},
   "source": [
    "* choose a random search instead of a grid search because it is more efficient in discovering good values for important hyperparameter settings\n",
    "* not necessary to implement a cross-validation strategy because we have a large validation set"
   ]
  },
  {
   "cell_type": "markdown",
   "metadata": {},
   "source": [
    "## 5.4 Final model"
   ]
  },
  {
   "cell_type": "code",
   "execution_count": 37,
   "metadata": {},
   "outputs": [
    {
     "name": "stdout",
     "output_type": "stream",
     "text": [
      "75000/75000 [==============================] - 2s 29us/step\n"
     ]
    },
    {
     "data": {
      "text/plain": [
       "[0.22692027312119803, 0.9408533333269755]"
      ]
     },
     "execution_count": 37,
     "metadata": {},
     "output_type": "execute_result"
    }
   ],
   "source": [
    "# build NN layers\n",
    "m3 = Sequential()\n",
    "m3.add(BatchNormalization(axis=-1, momentum=0.99, epsilon=0.001, center=True, scale=True, \n",
    "                          beta_initializer='zeros', gamma_initializer='ones', moving_mean_initializer='zeros'))\n",
    "m3.add(Dense(256, activation='relu'))\n",
    "m3.add(Dropout(0.5))\n",
    "m3.add(Dense(256, activation='relu'))\n",
    "m3.add(Dropout(0.5))\n",
    "m3.add(Dense(256, activation='relu'))\n",
    "m3.add(Dropout(0.5))\n",
    "m3.add(Dense(2, activation='softmax'))\n",
    "\n",
    "# compile the model\n",
    "m3.compile(loss='categorical_crossentropy',\n",
    "              optimizer='adam',\n",
    "              metrics=['accuracy'])\n",
    "\n",
    "# fit the model\n",
    "m3.fit(X_train, y_train,\n",
    "       epochs=50,\n",
    "       batch_size=256,\n",
    "       verbose=0)\n",
    "\n",
    "# evaluate the model\n",
    "m3.evaluate(X_train, y_train, batch_size=256)"
   ]
  },
  {
   "cell_type": "code",
   "execution_count": 38,
   "metadata": {},
   "outputs": [
    {
     "name": "stdout",
     "output_type": "stream",
     "text": [
      "25000/25000 [==============================] - 1s 26us/step\n"
     ]
    },
    {
     "data": {
      "text/plain": [
       "[0.052763610504865645, 0.9938800001525879]"
      ]
     },
     "execution_count": 38,
     "metadata": {},
     "output_type": "execute_result"
    }
   ],
   "source": [
    "# fit on test data\n",
    "m3.fit(X_test, y_test,\n",
    "       epochs=50,\n",
    "       batch_size=256,\n",
    "       verbose=0)\n",
    "\n",
    "# evaluate the model\n",
    "m3.evaluate(X_test, y_test, batch_size=256)"
   ]
  },
  {
   "cell_type": "markdown",
   "metadata": {},
   "source": [
    "After training on the optimal set of hyperparameters, we get an accuracy score of 77%. When we fit our model to the test data, we get an accuracy score of 82%. The reason we obtain a higher accuracy score with the test set is due to the behavior of the dropout layers. During training, a fraction of neurons are silenced, and as a result, the training accuracy suffers. However, during testing, dropout is not applied, and all the neurons in the network are used. This leads to a more robust model, and yields better performance."
   ]
  },
  {
   "cell_type": "markdown",
   "metadata": {},
   "source": [
    "# 6 Summary"
   ]
  },
  {
   "cell_type": "markdown",
   "metadata": {},
   "source": [
    "In summary:\n",
    "\n",
    "1. detected a department of missing items when creating a treemap of the Instacart catalog\n",
    "2. shopping traffic is heaviest between 10am and 3pm for most departments, and some departments have consistent shopping traffic throughout the day\n",
    "3. produce, dairy & eggs and beverages are almost always picked within the first 3 picks, suggesting these items may be more likely to be reordered\n",
    "4. built a basic 3-layer net in Keras with 74% accuracy\n",
    "5. added a BatchNormalization layer and multiple Dropout layers to regulate overfitting in the second network\n",
    "6. increased modeling capacity by increasing the number of hidden layers and units in the second network\n",
    "7. performed a random grid search to obtain the optimal set of hyperparameters\n",
    "8. the final 4-layer net yielded 77% accuracy on the training set and 82% on the test set as a result of dropout layer behavior"
   ]
  }
 ],
 "metadata": {
  "kernelspec": {
   "display_name": "Python 3",
   "language": "python",
   "name": "python3"
  },
  "language_info": {
   "codemirror_mode": {
    "name": "ipython",
    "version": 3
   },
   "file_extension": ".py",
   "mimetype": "text/x-python",
   "name": "python",
   "nbconvert_exporter": "python",
   "pygments_lexer": "ipython3",
   "version": "3.6.8"
  }
 },
 "nbformat": 4,
 "nbformat_minor": 2
}
